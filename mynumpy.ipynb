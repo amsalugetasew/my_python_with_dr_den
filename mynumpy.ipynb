{
 "cells": [
  {
   "cell_type": "code",
   "execution_count": 2,
   "id": "39f75263",
   "metadata": {},
   "outputs": [],
   "source": [
    "import numpy as np"
   ]
  },
  {
   "cell_type": "code",
   "execution_count": 32,
   "id": "ecf40236",
   "metadata": {},
   "outputs": [],
   "source": [
    "a = np.arange(6)"
   ]
  },
  {
   "cell_type": "code",
   "execution_count": 36,
   "id": "58f7ee6a",
   "metadata": {},
   "outputs": [],
   "source": [
    "x = a[np.newaxis, :]\n",
    "y = a[: , np.newaxis]"
   ]
  },
  {
   "cell_type": "code",
   "execution_count": 112,
   "id": "89ebb58f",
   "metadata": {},
   "outputs": [],
   "source": [
    "a = np.array([2,3,42,45,5,4,5,6])"
   ]
  },
  {
   "cell_type": "code",
   "execution_count": 113,
   "id": "b2ff1486",
   "metadata": {},
   "outputs": [],
   "source": [
    "s = np.sort(a)"
   ]
  },
  {
   "cell_type": "code",
   "execution_count": 115,
   "id": "e0a4eff3",
   "metadata": {},
   "outputs": [
    {
     "name": "stdout",
     "output_type": "stream",
     "text": [
      "[ 2  3  4  5  5  6 42 45]\n"
     ]
    }
   ],
   "source": [
    "print(s)"
   ]
  },
  {
   "cell_type": "code",
   "execution_count": 109,
   "id": "1c3092d6",
   "metadata": {},
   "outputs": [],
   "source": [
    "a = np.empty(3)\n",
    "b = np.zeros(2)\n",
    "c = np.ones(2)\n",
    "d = np.empty(2)"
   ]
  },
  {
   "cell_type": "code",
   "execution_count": 69,
   "id": "93caf5c8",
   "metadata": {},
   "outputs": [
    {
     "name": "stdout",
     "output_type": "stream",
     "text": [
      "[8.86395262e-312 0.00000000e+000 6.47591605e-319] [0. 0.] [1. 1.] [1. 1.]\n"
     ]
    }
   ],
   "source": [
    "print(a,b,c,d)"
   ]
  },
  {
   "cell_type": "code",
   "execution_count": 105,
   "id": "29fc2fca",
   "metadata": {},
   "outputs": [],
   "source": [
    "e = np.arange(0, 10, 2)"
   ]
  },
  {
   "cell_type": "code",
   "execution_count": 106,
   "id": "95431298",
   "metadata": {},
   "outputs": [
    {
     "name": "stdout",
     "output_type": "stream",
     "text": [
      "[0 2 4 6 8]\n"
     ]
    }
   ],
   "source": [
    "print(e)"
   ]
  },
  {
   "cell_type": "code",
   "execution_count": 81,
   "id": "85df7fd6",
   "metadata": {},
   "outputs": [],
   "source": [
    "f = np.arange(6, dtype = np.float64)"
   ]
  },
  {
   "cell_type": "code",
   "execution_count": 82,
   "id": "085b47e6",
   "metadata": {},
   "outputs": [
    {
     "data": {
      "text/plain": [
       "array([0., 1., 2., 3., 4., 5.])"
      ]
     },
     "execution_count": 82,
     "metadata": {},
     "output_type": "execute_result"
    }
   ],
   "source": [
    "f"
   ]
  },
  {
   "cell_type": "code",
   "execution_count": 101,
   "id": "9124cf70",
   "metadata": {},
   "outputs": [],
   "source": [
    "g = np.linspace(0, 100, num = 5)"
   ]
  },
  {
   "cell_type": "code",
   "execution_count": 102,
   "id": "3b390e35",
   "metadata": {},
   "outputs": [
    {
     "data": {
      "text/plain": [
       "array([  0.,  25.,  50.,  75., 100.])"
      ]
     },
     "execution_count": 102,
     "metadata": {},
     "output_type": "execute_result"
    }
   ],
   "source": [
    "g"
   ]
  },
  {
   "cell_type": "code",
   "execution_count": null,
   "id": "6efc00d3",
   "metadata": {},
   "outputs": [],
   "source": []
  },
  {
   "cell_type": "code",
   "execution_count": null,
   "id": "12b7f994",
   "metadata": {},
   "outputs": [],
   "source": []
  },
  {
   "cell_type": "code",
   "execution_count": null,
   "id": "611595c1",
   "metadata": {},
   "outputs": [],
   "source": []
  }
 ],
 "metadata": {
  "kernelspec": {
   "display_name": "Python 3 (ipykernel)",
   "language": "python",
   "name": "python3"
  },
  "language_info": {
   "codemirror_mode": {
    "name": "ipython",
    "version": 3
   },
   "file_extension": ".py",
   "mimetype": "text/x-python",
   "name": "python",
   "nbconvert_exporter": "python",
   "pygments_lexer": "ipython3",
   "version": "3.10.9"
  }
 },
 "nbformat": 4,
 "nbformat_minor": 5
}
